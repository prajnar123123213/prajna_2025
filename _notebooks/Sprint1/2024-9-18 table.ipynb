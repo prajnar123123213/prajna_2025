{
 "cells": [
  {
   "cell_type": "raw",
   "metadata": {},
   "source": [
    "---\n",
    "layout: post\n",
    "title: Notebooks Attempted Vs Accomplished table\n",
    "description: Hack #2 GitHub Pages Hacks\n",
    "categories: [Sprint1]\n",
    "permalink: /ideas\n",
    "menu: nav/home.html\n",
    "---"
   ]
  },
  {
   "cell_type": "markdown",
   "metadata": {},
   "source": [
    "<h5> Process </h5>\n",
    "\n",
    "| What I attempted | What I did |\n",
    "|-----------------|-----------------|\n",
    "| -Code a button that changes the theme automatically| -Figured out how to change theme in config.yml and sass seperately, not together|\n",
    "| -Install emojis using the Jupyter notebook | -Ended up copy pasting emojis form outside and using markdown tags to alter the size|\n",
    "| -Add a button that leads to Netflix in order to showcase my intrests| -Added a button and was able to enter a poster of my favorite shows/movies|\n",
    "| -Use wikipedia to upload data onto my website| -Failed miserably|\n",
    "| -Add a calculator to my games section| -Added Rock paper scissors instead|\n",
    "| -Make a notebook run a Javascript Cell| -Run the cell, and connect it onto my index.md page (in the submenu)|\n",
    "| -Link multiple notebooks| -Was only able to link one notebook|"
   ]
  }
 ],
 "metadata": {
  "kernelspec": {
   "display_name": "venv",
   "language": "python",
   "name": "python3"
  },
  "language_info": {
   "codemirror_mode": {
    "name": "ipython",
    "version": 3
   },
   "file_extension": ".py",
   "mimetype": "text/x-python",
   "name": "python",
   "nbconvert_exporter": "python",
   "pygments_lexer": "ipython3",
   "version": "3.11.7"
  }
 },
 "nbformat": 4,
 "nbformat_minor": 2
}
