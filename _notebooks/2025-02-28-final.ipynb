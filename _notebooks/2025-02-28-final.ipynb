{
 "cells": [
  {
   "cell_type": "raw",
   "metadata": {},
   "source": [
    "---\n",
    "layout: post\n",
    "title: Final Reflection\n",
    "description: 5 things, N@TM, Feature, MCQ\n",
    "permalink: /deploy/\n",
    "courses: { csp: {week: 1} }\n",
    "comments: true\n",
    "sticky_rank: 1\n",
    "---"
   ]
  },
  {
   "cell_type": "markdown",
   "metadata": {},
   "source": [
    "<h1> 5 things I contributed: </h1>\n",
    "\n",
    "1. Assigned roles and kept the burndown list up to date. \n",
    "2. API Endpoint Setup- built the first, which helped our backend admin go in and do the rest of the endpoints. \n",
    "3. Deployment- Followed the directions given in class and set up deployment for our website. I then taught some of the general commands and helped out the others in our group that did not initally do the deployment. \n",
    "4. Frontend- Initial setup: Created all the subsections in our website (Africa, Asia, South America, San Diego) then passed it off to Claire, Zoe, and Sanya to do formatting and making things pretty\n",
    "5. Found accesable premade API from the internet and figured out how to connect this to our website. This made our features more interactive and useful, opposed to the typical posting. \n",
    "\n",
    "<img width=\"493\" alt=\"Image\" src=\"https://github.com/user-attachments/assets/a5836a72-ce1c-436a-861e-e88c3b88cfe3\"/>\n",
    "\n",
    "<img width=\"689\" alt=\"Image\" src=\"https://github.com/user-attachments/assets/caf538b4-8e17-40cd-8c75-905b6669e074\"/>"
   ]
  },
  {
   "cell_type": "markdown",
   "metadata": {},
   "source": [
    "<h1> N@TM Feedback: </h1>\n",
    "\n",
    "[Feedback](https://github.com/prajnar123123213/restaurant_frontend/issues/3)\n",
    "\n",
    "- Improve: People recommended to add more features, as some of them may seem repetitive or not as intereseting. They also gave critisim on the overall presentation, and said that it would've been done more smoothly. This will defintley help for when we make the College Board video, and the next step would be to address these concerns. \n",
    "- Keep: People liked the organization of our website, and thought some of our features were fun to play aroundn with. The color scheme was also complemented, people said it suits the theme of our website. \n",
    "\n",
    "\n",
    "\n",
    "One of my favorite projects from N@TM was Pawnsy, from period 4. I thought it was so impressive how they managed to move chess pieces. I was even more blown away when you could upload a file from your game and the computer will show all the moves you amd. I can't even begin to imagine doing something that insane. \n",
    "<img width=\"296\" alt=\"Image\" src=\"https://github.com/user-attachments/assets/854bbf4d-a9e4-4041-bed9-6df9caa8c5ff\"/>\n"
   ]
  },
  {
   "cell_type": "markdown",
   "metadata": {},
   "source": [
    "<h1> Induvidual Feature FRQ </h1>\n",
    "\n",
    "Posting features on a platform involves implementing a structured system that allows users to submit content while ensuring proper data handling and accessibility. This process requires defining parameters such as text fields, image uploads, and **metadata** storage, ensuring that each post meets specific criteria before being published. A well-designed feature should incorporate conditional logic to validate user input, **manage permissions**, and display content dynamically based on user interactions. In our website, both Admin and Users have the ability to post. Additionally, we used **PythonURI**'s to ensure that our fetching mechanism would continue to work even after moving away from the localhost. The system should also be optimized for **efficiency**, minimizing load times and ensuring seamless retrieval of stored posts. Since our posts show up directly beneath the feature, users can easily keep track of what they posted. Finallly, implementation of posting features needs between functionality and usability, requiring **iterative** refinement based on user feedback and performance analysis, which we gathered at **N@TM**. \n"
   ]
  },
  {
   "cell_type": "markdown",
   "metadata": {},
   "source": [
    "<h1> MCQ Reflection </h1>\n",
    "\n",
    "Total Score: 58/67\n",
    "Time Spent: 1 hr 20 mins\n",
    "\n",
    "- Mistakes: Overall, I noticed I had difficulty with the arithmetic ascpet of CSP, including things like bits and binary code. (Q11, Q12, Q49,). I also had some difficulty understanding larger flowcharts or code chunks (Q23, Q35, Q39, Q67). When the diagrams are really long with multiple parts, it takes longer for me to process and I end up getting the question incorrect. \n",
    "\n",
    "<img width=\"462\" alt=\"Image\" src=\"https://github.com/user-attachments/assets/c5b6a988-669a-4681-87a8-dc1bea26f3eb\"/>\n",
    "\n",
    "<img width=\"462\" alt=\"Image\" src=\"https://github.com/user-attachments/assets/bb784db5-a0d8-4603-b661-5980cd163f80\"/>\n",
    "\n",
    "- Improvements: Compared the last exam, I was able to understand some of the terms a lot better. Vocab like packets, IP, and encryption, database, and more were easy to understand, and I was able to decode what the question was asking. I also did this quiz a lot faster than the first MCQ, and I got a better grade so there is definetely a significant amount of improvement. \n",
    "\n",
    "- Future Plan: As I am still struggling with visual representations of code, I will try to find videos that break down how flowcharts work. I can also just look around the classroom and try to understand the various posters made by previous students. Lastly, I am going to understand things like binary and bits, most likely using college board videos. \n",
    "\n",
    "<h6> INDUVIDUAL CORRECTIONS </h6>\n",
    "\n",
    "Q6: Correct Answer: C, I put B\n",
    "- Program 1 repeats **twice**, which is what I failed to notice when I first took the test. Since Program 1 repeats twice, it will reach the grey box, in addition to Program 2. \n",
    "\n",
    "Q11: Correct Answer: A, I put C\n",
    "- Binary Code uses **2^x**, and when you translate 11111111 to binary, it will give you 225. (2^7, 2^6, 2^5, etc). \n",
    "\n",
    "Q12: Correct Answer: C, I put D\n",
    "- Same as above, Binary code uses 2^x. We use the same process to translate the binary code into decimal form. \n",
    "\n",
    "Q23: Correct Answer: D, I put B\n",
    "- The mistake in this was the greater than and less than signs. The program only needs to be **atleast** 20 miles, not **greater** than 20 miles. \n",
    "\n",
    "<img width=\"1001\" alt=\"Image\" src=\"https://github.com/user-attachments/assets/7c2b6fcc-14ab-49e3-bc60-bd6484b7dcb5\"/>\n",
    "\n",
    "Q35: Correct Answer: B, I put C\n",
    "- The question isn't asking for a whole other program that follows the pattern as the example, it's asking to explain how it works. \n",
    "\n",
    "Q49: Correct Answer: C, I put A\n",
    "- Bits also use **2^x**, similar to binary code. Since there are a total of 100 employees, we need to plug in the answer choices to 2^x. 2^7= 128, which satisfies the minimum requirement. \n",
    "\n",
    "Q54: Correct Answer: C, I put A\n",
    "- The **APPEND** command means that the dataset will be linked. The even values getting added to the list will appear in the same relative order as before. \n",
    "\n",
    "Q67: Correct Answer: A and B, I put B and C\n",
    "- This program **resets** everytime a target word is reached. In answer choice C, the program reaches the number 1, but never returns to zero, which is what we want. "
   ]
  },
  {
   "cell_type": "markdown",
   "metadata": {},
   "source": [
    "<h1> Final Thoughts/ Reflection </h1>\n",
    "\n",
    "- This trimester challenged me a lot more than trimester 1, I noticed that I was starting to fall behind a lot more once the API stuff got introduced. My weakness of not knowing the fundementals of a computer were really starting to show. \n",
    "    - But, I was able to keep perservering, which was a strenght that I had to work hard on this tri. That also led me to be learn how to ask for help, and learn/rely on others. \n",
    "- For the future, I will for sure be planning on taking CS workshops or classes outside of school, and my career will be in the general area of technology and engineering. \n",
    "\n",
    "- I don't think I deserve a full 10/10, since I can tell that I'm much behind on things like CPT and CollegBoard vocab, and that's a core requirement for \"Full Stack Project Demo.\" I also struggled a lot with learning very basic concepts like running sudo or nginx during Deployment. Also, after looking at other people's project in N@TM, I can tell that ours really needs a lot more work and improvement to be on par with the rest of the CSP class, which is not a good thing considered we're more than halway done with the year.  \n",
    "    - However, I think I deserve a 9/10 because I've been keeping up with my work, I always try to do the live reviews first/ ahead of time. Collobration is also important to me, and I try to help others whenever I can to the best of my ability. "
   ]
  }
 ],
 "metadata": {
  "language_info": {
   "name": "python"
  }
 },
 "nbformat": 4,
 "nbformat_minor": 2
}
