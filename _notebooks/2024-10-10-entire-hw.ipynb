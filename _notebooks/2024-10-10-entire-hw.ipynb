{
 "cells": [
  {
   "cell_type": "markdown",
   "metadata": {},
   "source": [
    "---\n",
    "layout: post\n",
    "title: Home Page for All HW\n",
    "description: All notes and HW/Hacks\n",
    "courses: { csp: {week: 1} }\n",
    "comments: true\n",
    "sticky_rank: 1\n",
    "---"
   ]
  },
  {
   "cell_type": "markdown",
   "metadata": {},
   "source": [
    "<table>\n",
    "    <tr>\n",
    "     <td><a href=\"{{site.baseurl}}/threedashone/\">3.1,3.4</a></td> \n",
    "     <td><a href=\"{{site.baseurl}}/threedashtwo/\">3.2</a></td>\n",
    "     <td><a href=\"{{site.baseurl}}/threedashthreefive/\">3.3, 3.5</a></td>\n",
    "     <td><a href=\"{{site.baseurl}}/threedashsixandseven/\">3.6, 3.7</a></td>\n",
    "     <td><a href=\"{{site.baseurl}}/threedashten/\">3.10</a></td>\n",
    "     <td><a href=\"{{site.baseurl}}/summary/\">Summary</a></td>\n",
    "\n",
    " </tr>\n",
    "</table>"
   ]
  }
 ],
 "metadata": {
  "language_info": {
   "name": "python"
  }
 },
 "nbformat": 4,
 "nbformat_minor": 2
}
