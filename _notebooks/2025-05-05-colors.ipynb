{
 "cells": [
  {
   "cell_type": "raw",
   "metadata": {},
   "source": [
    "---\n",
    "layout: post\n",
    "categories: [AP Exam Prep]\n",
    "title: Colors HW\n",
    "description: HW Hacks\n",
    "permalink: /color/\n",
    "courses: { csp: {week: 1} }\n",
    "comments: true\n",
    "sticky_rank: 1\n",
    "---"
   ]
  },
  {
   "cell_type": "markdown",
   "metadata": {},
   "source": [
    "<html lang=\"en\">\n",
    "<head>\n",
    "  <meta charset=\"UTF-8\">\n",
    "  <title>HW Hack 1</title>\n",
    "  <style>\n",
    "    body {\n",
    "      font-family: Arial, sans-serif;\n",
    "      text-align: center;\n",
    "      padding: 20px;\n",
    "    }\n",
    "    .color-box {\n",
    "      width: 150px;\n",
    "      height: 150px;\n",
    "      display: inline-block;\n",
    "      margin: 10px;\n",
    "      border-radius: 10px;\n",
    "      line-height: 150px;\n",
    "      color: #333;\n",
    "      font-weight: bold;\n",
    "      box-shadow: 0 0 10px rgba(0,0,0,0.1);\n",
    "    }\n",
    "  </style>\n",
    "</head>\n",
    "<body>\n",
    "  <h1>HW Hack 1</h1>\n",
    "  <div class=\"color-box\" style=\"background-color: #e0fbfc;\">#e0fbfc</div>\n",
    "  <div class=\"color-box\" style=\"background-color: #c2dfe3;\">#c2dfe3</div>\n",
    "  <div class=\"color-box\" style=\"background-color: #9db4c0;\">#9db4c0</div>\n",
    "  <div class=\"color-box\" style=\"background-color: #5c6b73;\">#5c6b73</div>\n",
    "  <div class=\"color-box\" style=\"background-color: #253237;\">#253237</div>\n",
    "</body>\n",
    "</html>"
   ]
  },
  {
   "cell_type": "markdown",
   "metadata": {},
   "source": [
    "<html lang=\"en\">\n",
    "<head>\n",
    "  <meta charset=\"UTF-8\">\n",
    "  <title>My Base64 Profile Pic</title>\n",
    "</head>\n",
    "<body>\n",
    "  <h1>My icon png embedded/ HW Hack 2</h1>\n",
    "  <img src=\"data:image/png;base64,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\" alt=\"Profile Picture\" width=\"200\">\n",
    "</body>\n",
    "</html>"
   ]
  }
 ],
 "metadata": {
  "language_info": {
   "name": "python"
  }
 },
 "nbformat": 4,
 "nbformat_minor": 2
}
