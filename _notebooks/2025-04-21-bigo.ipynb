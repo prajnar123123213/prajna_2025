{
 "cells": [
  {
   "cell_type": "raw",
   "metadata": {},
   "source": [
    "---\n",
    "layout: post\n",
    "categories: [CSP Big Idea 2]\n",
    "title: Big O and Algorithm Efficiency\n",
    "description: HW hack+ Popcorn Hacks\n",
    "permalink: /big/\n",
    "courses: { csp: {week: 1} }\n",
    "comments: true\n",
    "sticky_rank: 1\n",
    "---"
   ]
  },
  {
   "cell_type": "markdown",
   "metadata": {},
   "source": [
    "\n",
    "<h1> Popcorn Hacks </h1>\n",
    "\n",
    "**Popcorn Hack 1:**\n",
    "The most efficient strategies are checking the last digit and then using the modulus operator to check if the remainder when divided by 2 is 0. This is because these methods both implement the O(1) operator, and options 2 and 3 only require one step. When checking the last number, it's only one step, and there are only 5 options to check from. As for the modulus, this operation is also one step since it immediately gives back the result of whether the number is 0 or not.\n",
    "\n",
    "<br>\n",
    "\n",
    "**Popcorn Hack 2:**\n",
    "\n",
    "- The Linear search is 0.483965 seconds.\n",
    "- The Binary search is 0.000038 seconds. It is 12687x faster than the linear search.\n",
    "If you increase the data set, the time it takes to run is longer, but the Binary search is still a lot faster than the linear searching algorithm. Linear search: 0.700474 seconds. Binary search: 0.000023 seconds. Binary search is approximately 30604x faster\n",
    "\n",
    "<br>\n",
    "\n",
    "**Challenge:**\n",
    "For a performance-critical application, I would choose the Speed-Optimized Method (s[::-1]):\n",
    "\n",
    "- Speed Matters most in Performance-Critical Apps\n",
    "- Memory tade-off is efficient, and does not lead to loss. \n",
    "- The graph will show quickly and will be scaled linear/ reasonably. \n",
    "\n",
    "<br>"
   ]
  },
  {
   "cell_type": "markdown",
   "metadata": {},
   "source": [
    "<h1> Homework Hacks </h1>\n",
    "\n",
    "**Homework Hack 1**\n",
    "\n",
    "The merge sort is consistantly faster than the bubble sort because it splits up the values rather than tackling each one induvidually. By dividing and conquering, merge sorting reduces the number of comparisons need to run the algorithm. Bubble sort has a larger time complexity since it has to manually switch each value that is next to the starting item. \n",
    " - Therefore, O(n log n) is better than O(n²). "
   ]
  },
  {
   "cell_type": "code",
   "execution_count": 2,
   "metadata": {},
   "outputs": [
    {
     "name": "stdout",
     "output_type": "stream",
     "text": [
      "Bubble Sort took: 0.000171 seconds\n",
      "Merge Sort took: 0.000093 seconds\n",
      "Merge Sort is faster.\n"
     ]
    }
   ],
   "source": [
    "import random\n",
    "import time\n",
    "\n",
    "def bubble_sort(arr):\n",
    "    n = len(arr)\n",
    "    for i in range(n):\n",
    "        for j in range(0, n - i - 1):\n",
    "            if arr[j] > arr[j + 1]:\n",
    "                arr[j], arr[j + 1] = arr[j + 1], arr[j]\n",
    "\n",
    "def merge_sort(arr):\n",
    "    if len(arr) > 1:\n",
    "        mid = len(arr) // 2\n",
    "        left = arr[:mid]\n",
    "        right = arr[mid:]\n",
    "\n",
    "        merge_sort(left)\n",
    "        merge_sort(right)\n",
    "\n",
    "        i = j = k = 0\n",
    "        while i < len(left) and j < len(right):\n",
    "            if left[i] < right[j]:\n",
    "                arr[k] = left[i]\n",
    "                i += 1\n",
    "            else:\n",
    "                arr[k] = right[j]\n",
    "                j += 1\n",
    "            k += 1\n",
    "\n",
    "        while i < len(left):\n",
    "            arr[k] = left[i]\n",
    "            i += 1\n",
    "            k += 1\n",
    "\n",
    "        while j < len(right):\n",
    "            arr[k] = right[j]\n",
    "            j += 1\n",
    "            k += 1\n",
    "\n",
    "# Generate random list\n",
    "random_list = [random.randint(1, 1000) for _ in range(100)]\n",
    "list_for_bubble = random_list.copy()\n",
    "list_for_merge = random_list.copy()\n",
    "\n",
    "# Time Bubble Sort\n",
    "start_bubble = time.time()\n",
    "bubble_sort(list_for_bubble)\n",
    "end_bubble = time.time()\n",
    "\n",
    "# Time Merge Sort\n",
    "start_merge = time.time()\n",
    "merge_sort(list_for_merge)\n",
    "end_merge = time.time()\n",
    "\n",
    "# Output times\n",
    "bubble_time = end_bubble - start_bubble\n",
    "merge_time = end_merge - start_merge\n",
    "\n",
    "print(f\"Bubble Sort took: {bubble_time:.6f} seconds\")\n",
    "print(f\"Merge Sort took: {merge_time:.6f} seconds\")\n",
    "\n",
    "if bubble_time < merge_time:\n",
    "    print(\"Bubble Sort is faster.\")\n",
    "else:\n",
    "    print(\"Merge Sort is faster.\")"
   ]
  },
  {
   "cell_type": "markdown",
   "metadata": {},
   "source": [
    "<br>\n",
    "\n",
    "**Homework Hack 2**\n",
    "\n",
    "1. Binary searching is a lot faster than Linear searching because it uses a lot less comparisons. It cuts down the list in half each time, causing the algortihm to be more efficient and work faster compared to the linear search that makes comparisons at each item given in a list. This is why the Linear search is given by O(n). \n",
    "2. On an unsorted list, the Linear searching algorithm would still work since it does not rely on if the list is sorted or not. However, the binary search would break down as it needs a sorted list to function. In this case, it would be more efficient for a programmer to use linear searching with unsorted lists. \n",
    "\n",
    "<br>"
   ]
  },
  {
   "cell_type": "code",
   "execution_count": 3,
   "metadata": {},
   "outputs": [
    {
     "name": "stdout",
     "output_type": "stream",
     "text": [
      "Target: 18274\n",
      "Linear Search comparisons: 18274\n",
      "Binary Search comparisons: 16\n"
     ]
    }
   ],
   "source": [
    "import random\n",
    "\n",
    "def linear_search(arr, target):\n",
    "    count = 0\n",
    "    for i in range(len(arr)):\n",
    "        count += 1\n",
    "        if arr[i] == target:\n",
    "            return count\n",
    "    return -1\n",
    "\n",
    "def binary_search(arr, target):\n",
    "    left, right = 0, len(arr) - 1\n",
    "    count = 0\n",
    "    while left <= right:\n",
    "        count += 1\n",
    "        mid = (left + right) // 2\n",
    "        if arr[mid] == target:\n",
    "            return count\n",
    "        elif arr[mid] < target:\n",
    "            left = mid + 1\n",
    "        else:\n",
    "            right = mid - 1\n",
    "    return -1\n",
    "\n",
    "# Generate sorted list\n",
    "arr = list(range(1, 100001))\n",
    "\n",
    "# Pick a random target from the list\n",
    "target = random.choice(arr)\n",
    "\n",
    "# Perform searches\n",
    "linear_comparisons = linear_search(arr, target)\n",
    "binary_comparisons = binary_search(arr, target)\n",
    "\n",
    "# Output results\n",
    "print(f\"Target: {target}\")\n",
    "print(f\"Linear Search comparisons: {linear_comparisons}\")\n",
    "print(f\"Binary Search comparisons: {binary_comparisons}\")\n"
   ]
  }
 ],
 "metadata": {
  "kernelspec": {
   "display_name": "venv",
   "language": "python",
   "name": "python3"
  },
  "language_info": {
   "codemirror_mode": {
    "name": "ipython",
    "version": 3
   },
   "file_extension": ".py",
   "mimetype": "text/x-python",
   "name": "python",
   "nbconvert_exporter": "python",
   "pygments_lexer": "ipython3",
   "version": "3.12.5"
  }
 },
 "nbformat": 4,
 "nbformat_minor": 2
}
