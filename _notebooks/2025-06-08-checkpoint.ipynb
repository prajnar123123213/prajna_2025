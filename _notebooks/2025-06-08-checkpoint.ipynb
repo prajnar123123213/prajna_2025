{
 "cells": [
  {
   "cell_type": "raw",
   "metadata": {},
   "source": [
    "---\n",
    "layout: post\n",
    "categories: [Final]\n",
    "title: Tri 3 Final\n",
    "description: Overview of Project, Homework, N@TM, Stats\n",
    "permalink: /checkpoint/\n",
    "courses: { csp: {week: 1} }\n",
    "comments: true\n",
    "sticky_rank: 1\n",
    "---"
   ]
  },
  {
   "cell_type": "markdown",
   "metadata": {},
   "source": [
    "<h1> Overview of Project </h1>\n",
    "\n",
    "One-Liner: A peer-driven compilation of machine learning models to give future students a resource to learn through Jupyter notebook documentation and code blocks. \n",
    "\n",
    "- What makes our projet unique?: \n",
    "    - Our projet is different from others because of it's accessable and teaching nature. Other projects are something that you can use or admire (like the bathroon pass, for example, is very impressive and useful for many people). Our project has features that are maybe not practical, but have educational qualities. No one would want to use a Pet trainer game or something like that in general, but the attatched blogs and documentations that we included throughout the website makes our features more accessable by giving usere a hands-on tool that they can use; **making complex topics more approachable and easier to learn.**\n",
    "\n",
    "\n",
    "- What did I do to contribute?\n",
    "    - As the scrum master, I focused on finished my feature and blog first in order to give the rest of my teammates a sort of structure or foundation that they can build their features based on. I also helped all of them (except for Alex) debug and fix the errors that they were getting when working with the backend. As most of the group, myslef included, is new to coding, I made sure that we all helped each other and got our work done on time, even when we were struggling with learning a new coding concept. \n"
   ]
  },
  {
   "cell_type": "markdown",
   "metadata": {},
   "source": [
    "<h1> Homework Proof </h1>\n",
    "\n",
    "## Proof\n",
    "\n",
    "- Below are all the links to my blogs/issues with the homework for each topic in Big Idea 5. \n",
    "- Here is also the link to view all of my homework from Tri 1: [Click](https://prajnar123123213.github.io/prajna_2025/2024/10/10/entire-hw_IPYNB_2_.html)\n",
    "\n",
    "![Homework Image]({{site.baseurl}}/images/hw.png)\n",
    "\n",
    "\n",
    "| Topic                          | Link                                                                                          | Summary |\n",
    "|-------------------------------|-----------------------------------------------------------------------------------------------|---------|\n",
    "| Beneficial & Harmful Effects  | [View](https://prajnar123123213.github.io/teaching_frontend/teaching/)                       | Explores how computing innovations positively and negatively impact society, such as improving communication but also raising concerns like addiction and surveillance. |\n",
    "| Digital Divide                | [View](https://github.com/prajnar123123213/prajna_2025/issues/14)                             | Defines the gap between those with and without access to technology, exploring how it impacts education, economy, and global equity. |\n",
    "| Crowdsourcing                 | [View](https://github.com/prajnar123123213/prajna_2025/issues/15)                             | Highlights how public collaboration (e.g. surveys, maps) can solve problems, but also presents challenges with data reliability and control. |\n",
    "| Legal/Ethical Concerns        | [View](https://github.com/prajnar123123213/prajna_2025/issues/16)                             | Discusses privacy, plagiarism, and developer responsibility regarding laws and ethics in computing. |\n",
    "| Safe Computing                | [View](https://prajnar123123213.github.io/prajna_2025/computing/)                             | Provides tips for secure internet use: strong passwords, avoiding scams, and keeping data safe. |\n",
    "| Binary Search Algorithms      | [View](https://github.com/prajnar123123213/prajna_2025/issues/18)                             | Teaches how binary search splits sorted data to quickly find a value, with code examples and efficiency discussion. |\n",
    "| Lists and Filtering           | [View](https://prajnar123123213.github.io/prajna_2025/lists/)                                 | Demonstrates how lists organize data and how filters help extract specific results using conditions. |\n",
    "| Random Algorithms             | [View](https://prajnar123123213.github.io/prajna_2025/random/)                                | Covers how randomness is used in code (e.g. games/simulations), with Python examples to generate random values. |\n",
    "| Big O                         | [View](https://prajnar123123213.github.io/prajna_2025/big/)                                   | Explains how algorithms are measured for efficiency as they scale, using terms like O(n), O(1), and O(n²). |\n",
    "| Binary Base 2 Math            | [View](https://prajnar123123213.github.io/prajna_2025/base/)                                  | Explains how binary numbers work, how to convert them, and why computers use base 2 for processing data. |\n",
    "\n",
    "\n",
    "## Core Ideas/ Takeaways\n",
    "\n",
    "- These lessons cover essential principles of computer science and digital responsibility, exploring how technology affects individuals and society. \n",
    "    - The topics range from ethical concerns like digital privacy and equity to algorithmic logic such as binary search and complexity analysis.\n",
    "    - Technical aspects: Variables, Data abstractions, Mathematics, Conditionals. \n",
    "        - Most of these concepts connect back to the binary or bite system, and it's important to understand how conversion between written language and computer language occurs. \n",
    "\n",
    "## Our Lesson\n",
    "\n",
    "- I taught the neutral side of beneficial and harmful effects, showing how a dilema isn't always two-sided, and problems in the computational world can often be very complex. "
   ]
  },
  {
   "cell_type": "markdown",
   "metadata": {},
   "source": [
    "<h1> N@TM </h1>\n",
    "\n",
    "When showcasing our project we focused on these main things: \n",
    "\n",
    "1. Starting off with the purpose of our project. Why did we take the time to create this?\n",
    "    - Machine learning, teaching for future students, progression of features, etc. \n",
    "2. A brief overview of our main features. Since we had 7+ features, we didn't want to go over every single one of them. Instead of showed each new vistor 2 or 3, rotated through the features. \n",
    "3. Finally, we had showed them our blogs and documentations that have the step by step instructions and explanations of our code. We also kept this breif, as we didn't know if they would be interested in learning the more technical aspects. \n",
    "    - If we saw that they were engaged and intereseted, we guided them over to a second computer that we had set up with only our blogs displayed. Here, they were able to look through our writing by themsleves and ask us any questions they might've had. \n",
    "4. Get advice and improvements that we can make through google surveys. \n",
    "    - Our poster with the link to survey: [Canva](https://www.canva.com/design/DAGph2WB6Hk/SAr-n6BGAbzY3G_CqP-8yg/edit)\n",
    "    - Google survey results: [Results](https://docs.google.com/spreadsheets/d/1USE2VYAzjO0FOFSQvii9s6ihHIrVruZWLCyPO7PkZkU/edit?usp=sharing)"
   ]
  },
  {
   "cell_type": "markdown",
   "metadata": {},
   "source": [
    "<h1> Stats </h1>\n",
    "\n",
    "Here are my commits: \n",
    "![Homework Image]({{site.baseurl}}/images/commit.png)\n",
    "\n",
    "Dashboard/ Grade Predictor:\n",
    "![Homework Image]({{site.baseurl}}/images/dash.png)\n",
    "![Homework Image]({{site.baseurl}}/images/board.png)\n",
    "\n",
    "Pull Request: \n",
    "![Homework Image]({{site.baseurl}}/images/pull.png)\n"
   ]
  },
  {
   "cell_type": "markdown",
   "metadata": {},
   "source": [
    "<h1> Final Refelction </h1>\n",
    "\n",
    "I've grown a lot as a computer science student over this entire year, and I still remember when me and Arshia would complain and struggle over created our \"About Me\" pages. Inserting an image by using site.baseurl seemed like the hardest thing at that time, but not I feel confident in usine API endpoints and navigatig backend/frontend integration. I also am a lot better at debugging and fixing my own mistakes, as well as helped others. 2nd tri I would frequently come up with questions on this and that, never fully able to understand how to fix my own code. I think this trimester especially has helepd me understand how to use resources like peers and ChatGPT in a beneficial way for debugging. Finally, I think there is obviously still a lot of room for important in terms of things like AWS deployment. Although I deployed by myself in 2nd tri, I forgot the entire process the second I finished it, so a future goal would be for me to continue practicing and re-learning the entire process because deployment is the only way that our grouops hard work and efforts can be shared with the rest of the world. "
   ]
  }
 ],
 "metadata": {
  "language_info": {
   "name": "python"
  }
 },
 "nbformat": 4,
 "nbformat_minor": 2
}
