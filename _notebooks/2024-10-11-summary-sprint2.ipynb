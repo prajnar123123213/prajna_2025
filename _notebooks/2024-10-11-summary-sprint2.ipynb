{
 "cells": [
  {
   "cell_type": "raw",
   "metadata": {},
   "source": [
    "---\n",
    "layout: post\n",
    "title: Homeworks and Popcorn Hacks for Lessons\n",
    "description: All homeworks and hacks for 3.6, 3.7\n",
    "permalink: /summary/\n",
    "courses: { csp: {week: 1} }\n",
    "comments: true\n",
    "sticky_rank: 1\n",
    "---"
   ]
  },
  {
   "cell_type": "markdown",
   "metadata": {},
   "source": [
    "<span style=\"color: pink ; font-size: 35px\"> Summary for Sprint 2 Lessons </span>\n"
   ]
  },
  {
   "cell_type": "markdown",
   "metadata": {},
   "source": [
    "<html lang=\"en\">\n",
    "<head>\n",
    "  <meta charset=\"UTF-8\">\n",
    "  <meta name=\"viewport\" content=\"width=device-width, initial-scale=1.0\">\n",
    "  <title>Summary Without Examples</title>\n",
    "  <style>\n",
    "    table {\n",
    "      width: 100%;\n",
    "      border-collapse: collapse;\n",
    "    }\n",
    "\n",
    "    table, th, td {\n",
    "      border: 1px solid black;\n",
    "    }\n",
    "\n",
    "    th, td {\n",
    "      padding: 8px;\n",
    "      text-align: left;\n",
    "    }\n",
    "\n",
    "    .expandable {\n",
    "      cursor: pointer;\n",
    "      color: green;\n",
    "      font-weight: bold;\n",
    "    }\n",
    "\n",
    "    .hidden-row {\n",
    "      display: none;\n",
    "    }\n",
    "\n",
    "    .expanded {\n",
    "      font-weight: bold;\n",
    "      color: green;\n",
    "    }\n",
    "  </style>\n",
    "</head>\n",
    "<body>\n",
    "\n",
    "<h2>Summary without Examples</h2>\n",
    "\n",
    "<table id=\"myTable\">\n",
    "  <thead>\n",
    "    <tr>\n",
    "      <th></th>\n",
    "      <th>Lesson</th>\n",
    "      <th>Topic</th>\n",
    "    </tr>\n",
    "  </thead>\n",
    "  <tbody>\n",
    "    <tr>\n",
    "      <td class=\"expandable\" onclick=\"toggleRow(1)\">+</td>\n",
    "      <td>3.5</td>\n",
    "      <td>Boolean Expressions</td>\n",
    "    </tr>\n",
    "    <tr id=\"row1\" class=\"hidden-row\">\n",
    "      <td colspan=\"3\">Booleans are true or false statements. \n",
    "\n",
    "a == b (equals)\n",
    "a != b (not equal to)\n",
    "a > b (greater than)\n",
    "a < b (less than)\n",
    "a >= b (greater than or equal to)\n",
    "a <= b (less than or equal to)\n",
    "\n",
    "Are very case sensitve, depending on how many equal signs are used \n",
    "5 !== '5' //true\n",
    "5 != '5' // false</td>\n",
    "    </tr>\n",
    "    \n",
    "    <tr>\n",
    "      <td class=\"expandable\" onclick=\"toggleRow(2)\">+</td>\n",
    "      <td>3.7</td>\n",
    "      <td>Nested Conditionals</td>\n",
    "    </tr>\n",
    "    <tr id=\"row2\" class=\"hidden-row\">\n",
    "      <td colspan=\"3\">Nested conditionals are pretty much the same if else, and they allow to check multiple conditions in a single sequence. \n",
    "This can be done by asking a user for information (See above at 3.4 for how to ask users)</td>\n",
    "    </tr>\n",
    "    \n",
    "    <tr>\n",
    "      <td class=\"expandable\" onclick=\"toggleRow(3)\">+</td>\n",
    "      <td>3.10</td>\n",
    "      <td>Lists</td>\n",
    "    </tr>\n",
    "    <tr id=\"row3\" class=\"hidden-row\">\n",
    "      <td colspan=\"3\">Lists have already been covered in 3.1 and 3.2 !\n",
    "\n",
    "Additional info: In python, index 1 is basically the second number in the list. Python starts counting at 0. </td>\n",
    "    </tr>\n",
    "  </tbody>\n",
    "</table>\n",
    "\n",
    "<script>\n",
    "  function toggleRow(rowNum) {\n",
    "    const row = document.getElementById('row' + rowNum);\n",
    "    const button = document.querySelectorAll('.expandable')[rowNum - 1];\n",
    "\n",
    "    if (row.style.display === \"none\" || row.style.display === \"\") {\n",
    "      row.style.display = \"table-row\";\n",
    "      button.textContent = \"-\"; // Change \"+\" to \"-\"\n",
    "      button.classList.add('expanded');\n",
    "    } else {\n",
    "      row.style.display = \"none\";\n",
    "      button.textContent = \"+\"; // Change \"-\" to \"+\"\n",
    "      button.classList.remove('expanded');\n",
    "    }\n",
    "  }\n",
    "</script>\n",
    "\n",
    "</body>\n",
    "</html>"
   ]
  },
  {
   "cell_type": "markdown",
   "metadata": {},
   "source": [
    "## 3.1\n",
    "\n",
    "- Variables: Help to define elemnts in your code. \n",
    "     - variable = \"whatever\" OR let variable = \"whatever\";\n",
    "     - Types include Integers, Strings, Boolean, Float, and Lists\n",
    "- JavaScript variables also fall under the same types as the Python ones. "
   ]
  },
  {
   "cell_type": "code",
   "execution_count": null,
   "metadata": {},
   "outputs": [],
   "source": [
    "# Integer\n",
    "a = 77\n",
    "\n",
    "# String\n",
    "song_lyrics = \"La la al al al al alla lalala \"\n",
    "\n",
    "# Boolean (True/ false)\n",
    "is_tall = False \n",
    "\n",
    "#Float (Integer, but decimal)\n",
    "pi = 3.1415\n",
    "\n",
    "#List\n",
    "days_in_a_week = [\"Monday\", \"Tuesday\", \"Wednesday\"]"
   ]
  },
  {
   "cell_type": "markdown",
   "metadata": {},
   "source": [
    "## 3.2 \n",
    "\n",
    "\n",
    "- Tuples: immutable (unchangable). Often used in math to signify coordinates. \n",
    "     - JavaScript : [8,12] Python: (8,12)\n",
    "- Abstractions: Allows you to add or remove things from a list or elements. \n",
    "    - JavaScript: myset.delete Python: myset.remove\n",
    "    - Javascript: ([]); Python: {\"}"
   ]
  },
  {
   "cell_type": "code",
   "execution_count": null,
   "metadata": {},
   "outputs": [],
   "source": [
    "myset = {\"orange\", \"banana\"}\n",
    "myset.add (\"apples\")\n",
    "for i in myset: \n",
    "    print (i)"
   ]
  },
  {
   "cell_type": "markdown",
   "metadata": {},
   "source": [
    "# 3.3\n",
    "\n",
    "\n",
    "\n",
    "- Easy stuff! Only thing new is MOD\n",
    "    - Python + Javascript: %"
   ]
  },
  {
   "cell_type": "code",
   "execution_count": null,
   "metadata": {},
   "outputs": [],
   "source": [
    "numb1 = 10\n",
    "numb2 = 15\n",
    "numb3 = numb1 % numb2\n",
    "print (numb3)"
   ]
  },
  {
   "cell_type": "markdown",
   "metadata": {},
   "source": [
    "# 3.4\n",
    "\n",
    "\n",
    "\n",
    "- Concat strings: Combining two variable together using +\n",
    "   - Can also prompt the user, and use the new information given to make a message. \n",
    "   - JavaScript: prompt  Python: input"
   ]
  },
  {
   "cell_type": "code",
   "execution_count": null,
   "metadata": {},
   "outputs": [],
   "source": [
    "favoriteFood = input (\"Enter your favorite food: \")\n",
    "favoriteSport = input(\"Enter your favorite sport: \")\n",
    "\n",
    "message = \"Your favorite food is \" + favoriteFood + \" and your favorite sport is \" + favoriteSport + \".\"\n",
    "\n",
    "print (message)\n"
   ]
  },
  {
   "cell_type": "markdown",
   "metadata": {},
   "source": [
    "# 3.6\n",
    " \n",
    "- If else statements are used to satsify different conditions\n",
    "    - if , elif, else (in Python) In java script, elif is typed out as 'else if'"
   ]
  },
  {
   "cell_type": "code",
   "execution_count": null,
   "metadata": {},
   "outputs": [],
   "source": [
    "a = 12\n",
    "if a > 5:\n",
    "    print (\"Greater than 5\")\n",
    "else: \n",
    "    print (\"Smaller than 5\")"
   ]
  },
  {
   "cell_type": "markdown",
   "metadata": {},
   "source": [
    "# 3.7\n",
    "\n",
    "Nested conditionls are pretty much the same if else, and they allow to check multiple conditions in a single sequence. \n",
    "This can be done by asking a user for information (See above at 3.4 for how to ask users)"
   ]
  },
  {
   "cell_type": "markdown",
   "metadata": {},
   "source": [
    "## Overall\n",
    "\n",
    "- JavaScript and Python are pretty much the same, with slight differences\n",
    "    - JavaScript requires ; to be used at the end of every statement \n",
    "    - Variables in JavaScript have a 'let' in front of them\n",
    "    - JavaScript prints with console.log \n",
    "\n",
    "- My favorite hack was from 3.6 and 3.7 when we had to make a quiz based off of a subject that we were interested in\n",
    "    - Code is very versatile, doesn't have to be used for only technical things\n"
   ]
  },
  {
   "cell_type": "markdown",
   "metadata": {},
   "source": [
    "## Grades\n",
    "\n",
    "- 3.10: 0.89\n",
    "- 3.2: didn't have spreadsheet\n",
    "- 3.1: 0.88\n",
    "- 3.3: 0.9\n",
    "- 3.6: 0.9\n",
    "\n",
    "## Proof of my grading\n",
    "I helped make the grading issue, and all grading was done together as a group. "
   ]
  },
  {
   "cell_type": "markdown",
   "metadata": {},
   "source": [
    "\"https://github.com/prajnar123123213/prajna_2025/issues/7#issue-2581843862\""
   ]
  },
  {
   "cell_type": "markdown",
   "metadata": {},
   "source": [
    "link to blog: https://prajnar123123213.github.io/prajna_2025/2024/10/10/entire-hw_IPYNB_2_.html\n",
    "\n",
    "\n",
    "| **Skill**                  | **Points**    | **Grade** | **Evidence** |\n",
    "|----------------------------|---------------|-----------|--------------|\n",
    "| Work Habits (Analytics)    |   1           |     1      |      <img width=\"912\" alt=\"Screenshot 2024-10-13 at 4 08 21 PM\" src=\"https://github.com/user-attachments/assets/4c0637e3-8024-47ba-9d50-b0c74dea7474\"> |\n",
    "| Team Planning (Issue)      |   1           |      1     |  <img width=\"636\" alt=\"Screenshot 2024-10-13 at 4 05 34 PM\" src=\"https://github.com/user-attachments/assets/4ca9d023-c19a-446d-ad47-00b3db3790fc\">            |\n",
    "| Presentation Memories      |   1           |      1     |    Don't have a screenshot or picture of this, but I was present when we did presenting, I walked around the class to help with Popcorn Hacks and tried to project my voice as much as possible.          |\n",
    "| Grading and Feedback       |   1           |      1     |      <img width=\"1108\" alt=\"Screenshot 2024-10-13 at 4 05 03 PM\" src=\"https://github.com/user-attachments/assets/e5b46598-dabc-4c74-a0ea-ad5c3bbb2f2c\">     |\n",
    "| Beyond Perfunctory         |   1           |    0       |        Our website was mostly just simple, there wasn't a lot that we did to go above and beyond. However, we were able to change the font colors and sizes without messing up the config.yml  <img width=\"457\" alt=\"Screenshot 2024-10-13 at 4 10 01 PM\" src=\"https://github.com/user-attachments/assets/65c482e5-10df-4f54-b373-0a4c07af0f95\">    |\n",
    "\n",
    "\n",
    " | **Assignment**          | **Weightage** | **Grade** | **Comments** |\n",
    "|-------------------------|---------------|-----------|--------------|\n",
    "| College Board Coverage  | 20            | 20       | Our topic was Iterations and how to do different types of loops. I think we covered all of the important stuff, and we had multiple examples with both JavaScript and Python. We put in a lot of effort and research for this, and I think we hit all the main points.          |\n",
    "| Python Examples         | 15            | 15      | We had a Python example for every subsection that we covered. A lot of our homework also required the usage of Python.         |\n",
    "| JavaScript Examples     | 15            | 15      | Similar to Python, all of our subsections had a JavaScript example, usually just the same as Python to show how similar the two languages are when doing Iterations. |\n",
    "| Popcorn Hack Usage      | 10            | 10      | We had multiple popcorn hacks for each of the 4 sections, all of them done in between a new topic that we taught. I think these were efficient because it helped to re-enforce the stuff students just learned.           |\n",
    "| Homework                | 10            | 8       | We didn't follow the instructions for the Homework hacks as much as we should've. We did have homework, but instead of having one big hack that combined all of the 4 sections we went over, we had a different homework for every section. (3.8.1 had hw, 3.8.2 had hw, etc).           |\n",
    "| Grading Plan            | 10            | 10     | We made an issue with the grading plan linked it in the class spreadsheet, and followed all the instructions given to us by the Scrum master.     |\n",
    "| Original an Creative    | 10            | 10       |  Our formatting and examples are all original, we also took liberty with the fonts and customized them to make it look cute. We also included loops that weren't part of the College Board Coverage and showed different ways to use iterations in day-to-day programming.      |\n",
    "| **Total**               | **90**        |       85    |              |\n",
    "\n",
    "\n",
    "| **Assignment**             | **Points**    | **Grade** | **Evidence** |\n",
    "|----------------------------|---------------|-----------|--------------|\n",
    "| Baseline Grade             | 55%           |           |              |\n",
    "| Max Grade                  | 90%           |           |              |\n",
    "| Pull Request (Integration) | 1             |      1    |       <img width=\"813\" alt=\"Screenshot 2024-10-13 at 10 25 31 PM\" src=\"https://github.com/user-attachments/assets/35dab5f2-3eef-43dc-aeed-c27cda6907f2\">  |\n",
    "| Relevancy Checklist (Peer) | 2             |        2   |      <img width=\"817\" alt=\"Screenshot 2024-10-13 at 10 26 43 PM\" src=\"https://github.com/user-attachments/assets/bbbf0f5e-1a6d-420b-b3b3-2d58a61bd149\">   |\n",
    "| Lesson Style (Period)      | 1             |     0    |   I did not contribute a lot of the overall lesson style of the period, and I think most of it was done by the class Scrum Master.  |\n",
    "| Homework, Popcorn Hacks    | 1 x 5         |      5     |         <img width=\"897\" alt=\"Screenshot 2024-10-13 at 10 27 22 PM\" src=\"https://github.com/user-attachments/assets/6b5c5852-71f7-4a6a-83db-e9fb8a21ea73\">  I wasn't able to screenshot all of them, but this picture is an example of how our popcorn hack and homework go hand in hand.    |\n",
    "| Individual Contribution    | 1             |      1     |      <img width=\"843\" alt=\"Screenshot 2024-10-13 at 10 28 21 PM\" src=\"https://github.com/user-attachments/assets/b9c0b0bd-caba-431f-a554-6dcb2c70c3f1\">        |\n",
    "| Personal Notebooks / Blogs | 1             |      1     |      <img width=\"314\" alt=\"Screenshot 2024-10-13 at 10 28 47 PM\" src=\"https://github.com/user-attachments/assets/435775c6-320b-42ec-ada2-17f24a742485\">  |\n",
    "| Total                      | 11            |   10        |              |\n",
    "\n",
    "- I know all my units because I was able to complete most of the popcorn hacks and homework assigned by myself. If I did use Chat GPT, it was only for clarifications, and not to copy the entire code. Furthermore, most of the information across the lessons is repeated multiple times, and I can summarize the main topics. (Variables including boolean values and math, strings, loops). \n",
    "\n",
    "- I created a summary in my blogs by making a submenu that links all of my notebooks for the popcorn hacks and homework in one page. At the end of the submenu, I have a summary link, that leads to all the important takeaways form each lesson. I have boxes of code supplemented at the end of each markdown box for the concepts that I struggled with, so I can come back and review them when I'm struggling. \n",
    "\n",
    "- On my learning journey, I always tried to go above and beyond. For example, when the other groups had optional homework, I always did it to the best of my ability. (For ex: translate your python into javascript). Furthermore, in the lesson that I created, I provided templates for both JavaScript and Python, and did my research for how to do both types instead of just making it a popcorn hack. \n",
    "\n",
    "- My memories from my homework/learning were making games that allow you to interact with the code. It was the most fun part about coding, and it's satisfying to see everything work the way it's supposed to. \n",
    "\n",
    "-  My work is unique and genuine\n"
   ]
  }
 ],
 "metadata": {
  "kernelspec": {
   "display_name": "venv",
   "language": "python",
   "name": "python3"
  },
  "language_info": {
   "codemirror_mode": {
    "name": "ipython",
    "version": 3
   },
   "file_extension": ".py",
   "mimetype": "text/x-python",
   "name": "python",
   "nbconvert_exporter": "python",
   "pygments_lexer": "ipython3",
   "version": "3.12.5"
  }
 },
 "nbformat": 4,
 "nbformat_minor": 2
}
