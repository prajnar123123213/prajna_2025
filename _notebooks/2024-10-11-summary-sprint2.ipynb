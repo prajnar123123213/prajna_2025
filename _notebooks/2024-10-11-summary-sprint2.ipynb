{
 "cells": [
  {
   "cell_type": "raw",
   "metadata": {},
   "source": [
    "---\n",
    "layout: post\n",
    "title: Homeworks and Popcorn Hacks for Lessons\n",
    "description: All homeworks and hacks for 3.6, 3.7\n",
    "permalink: /summary/\n",
    "courses: { csp: {week: 1} }\n",
    "comments: true\n",
    "sticky_rank: 1\n",
    "---"
   ]
  },
  {
   "cell_type": "markdown",
   "metadata": {},
   "source": [
    "<span style=\"color: pink ; font-size: 35px\"> Summary for Sprint 2 Lessons </span>\n"
   ]
  },
  {
   "cell_type": "markdown",
   "metadata": {},
   "source": [
    "## 3.1\n",
    "\n",
    "- Variables: Help to define elemnts in your code. \n",
    "     - variable = \"whatever\" OR let variable = \"whatever\";\n",
    "     - Types include Integers, Strings, Boolean, Float, and Lists\n",
    "- JavaScript variables also fall under the same types as the Python ones. "
   ]
  },
  {
   "cell_type": "code",
   "execution_count": null,
   "metadata": {},
   "outputs": [],
   "source": [
    "# Integer\n",
    "a = 77\n",
    "\n",
    "# String\n",
    "song_lyrics = \"La la al al al al alla lalala \"\n",
    "\n",
    "# Boolean (True/ false)\n",
    "is_tall = False \n",
    "\n",
    "#Float (Integer, but decimal)\n",
    "pi = 3.1415\n",
    "\n",
    "#List\n",
    "days_in_a_week = [\"Monday\", \"Tuesday\", \"Wednesday\"]"
   ]
  },
  {
   "cell_type": "markdown",
   "metadata": {},
   "source": [
    "## 3.2 \n",
    "\n",
    "\n",
    "- Tuples: immutable (unchangable). Often used in math to signify coordinates. \n",
    "     - JavaScript : [8,12] Python: (8,12)\n",
    "- Abstractions: Allows you to add or remove things from a list or elements. \n",
    "    - JavaScript: myset.delete Python: myset.remove\n",
    "    - Javascript: ([]); Python: {\"}"
   ]
  },
  {
   "cell_type": "code",
   "execution_count": null,
   "metadata": {},
   "outputs": [],
   "source": [
    "myset = {\"orange\", \"banana\"}\n",
    "myset.add (\"apples\")\n",
    "for i in myset: \n",
    "    print (i)"
   ]
  },
  {
   "cell_type": "markdown",
   "metadata": {},
   "source": [
    "# 3.3\n",
    "\n",
    "\n",
    "\n",
    "- Easy stuff! Only thing new is MOD\n",
    "    - Python + Javascript: %"
   ]
  },
  {
   "cell_type": "code",
   "execution_count": null,
   "metadata": {},
   "outputs": [],
   "source": [
    "numb1 = 10\n",
    "numb2 = 15\n",
    "numb3 = numb1 % numb2\n",
    "print (numb3)"
   ]
  },
  {
   "cell_type": "markdown",
   "metadata": {},
   "source": [
    "# 3.4\n",
    "\n",
    "\n",
    "\n",
    "- Concat strings: Combining two variable together using +\n",
    "   - Can also prompt the user, and use the new information given to make a message. \n",
    "   - JavaScript: prompt  Python: input"
   ]
  },
  {
   "cell_type": "code",
   "execution_count": null,
   "metadata": {},
   "outputs": [],
   "source": [
    "favoriteFood = input (\"Enter your favorite food: \")\n",
    "favoriteSport = input(\"Enter your favorite sport: \")\n",
    "\n",
    "message = \"Your favorite food is \" + favoriteFood + \" and your favorite sport is \" + favoriteSport + \".\"\n",
    "\n",
    "print (message)\n"
   ]
  },
  {
   "cell_type": "markdown",
   "metadata": {},
   "source": [
    "# 3.5\n",
    "\n",
    "\n",
    "- Booleans are true or false statements. \n",
    "\n",
    "a == b (equals)\n",
    "a != b (not equal to)\n",
    "a > b (greater than)\n",
    "a < b (less than)\n",
    "a >= b (greater than or equal to)\n",
    "a <= b (less than or equal to)\n",
    "\n",
    "- Are very case sensitve, depending on how many equal signs are used \n",
    "\n",
    "5 !== '5' //true\n",
    "5 != '5' // false"
   ]
  },
  {
   "cell_type": "markdown",
   "metadata": {},
   "source": [
    "# 3.6\n",
    " \n",
    "- If else statements are used to satsify different conditions\n",
    "    - if , elif, else (in Python) In java script, elif is typed out as 'else if'"
   ]
  },
  {
   "cell_type": "code",
   "execution_count": null,
   "metadata": {},
   "outputs": [],
   "source": [
    "a = 12\n",
    "if a > 5:\n",
    "    print (\"Greater than 5\")\n",
    "else: \n",
    "    print (\"Smaller than 5\")"
   ]
  },
  {
   "cell_type": "markdown",
   "metadata": {},
   "source": [
    "# 3.7\n",
    "\n",
    "- Nested conditionls are pretty much the same if else, and they allow to check multiple conditions in a single sequence. \n",
    "    - This can be done by asking a user for information (See above at 3.4 for how to ask users)"
   ]
  },
  {
   "cell_type": "markdown",
   "metadata": {},
   "source": [
    "# 3.10\n",
    "\n",
    "Lists have already been covered in 3.1 and 3.2 !\n",
    "\n",
    "- Additional info: In python, index 1 is basically the second number in the list. Python starts counting at 0. "
   ]
  },
  {
   "cell_type": "markdown",
   "metadata": {},
   "source": [
    "## Overall\n",
    "\n",
    "- JavaScript and Python are pretty much the same, with slight differences\n",
    "    - JavaScript requires ; to be used at the end of every statement \n",
    "    - Variables in JavaScript have a 'let' in front of them\n",
    "    - JavaScript prints with console.log \n",
    "- To use a variable inside a print statment, start it off with 'f'\n"
   ]
  }
 ],
 "metadata": {
  "kernelspec": {
   "display_name": "venv",
   "language": "python",
   "name": "python3"
  },
  "language_info": {
   "codemirror_mode": {
    "name": "ipython",
    "version": 3
   },
   "file_extension": ".py",
   "mimetype": "text/x-python",
   "name": "python",
   "nbconvert_exporter": "python",
   "pygments_lexer": "ipython3",
   "version": "3.12.5"
  }
 },
 "nbformat": 4,
 "nbformat_minor": 2
}
