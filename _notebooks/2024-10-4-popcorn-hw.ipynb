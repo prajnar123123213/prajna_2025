{
 "cells": [
  {
   "cell_type": "raw",
   "metadata": {},
   "source": [
    "---\n",
    "layout: post\n",
    "title: Homeworks and Popcorn Hacks for Lessons\n",
    "description: All homeworks for Lessons\n",
    "courses: { csp: {week: 1} }\n",
    "comments: true\n",
    "sticky_rank: 1\n",
    "---"
   ]
  },
  {
   "cell_type": "code",
   "execution_count": 8,
   "metadata": {},
   "outputs": [
    {
     "name": "stdout",
     "output_type": "stream",
     "text": [
      "Adding Numbers In List Script\n",
      "-------------------------\n",
      "Added 10 to list.\n"
     ]
    }
   ],
   "source": [
    "##Popcorn Hack 1\n",
    "\n",
    "print(\"Adding Numbers In List Script\")\n",
    "print(\"-\"*25)\n",
    "numlist = []\n",
    "while True:\n",
    "    start = input(\"Would you like to (1) enter numbers (2) add numbers (3) remove last value added or (4) exit: \")\n",
    "    if start == \"1\":\n",
    "        val = input(\"Enter a numeric value: \") # take input while storing it in a variable\n",
    "        try: \n",
    "            test = int(val) # testing to see if input is an integer (numeric)\n",
    "        except:\n",
    "            print(\"Please enter a valid number\")\n",
    "            continue # 'continue' keyword skips to next step of while loop (basically restarting the loop)\n",
    "        numlist.append(int(val)) # append method to add values\n",
    "        print(\"Added \"+val+\" to list.\")\n",
    "    elif start == \"2\":\n",
    "        sum = 0\n",
    "        for num in numlist: # loop through list and add all values to sum variable\n",
    "            sum += num\n",
    "        print(\"Sum of numbers in list is \"+str(sum))\n",
    "    elif start == \"3\":\n",
    "        if len(numlist) > 0: # Make sure there are values in list to remove\n",
    "            print(\"Removed \"+str(numlist[len(numlist)-1])+\" from list.\")\n",
    "            numlist.pop()\n",
    "        else:\n",
    "            print(\"No values to delete\")\n",
    "    elif start == \"4\":\n",
    "        break # Break out of the while loop, or it will continue running forever\n",
    "    else:\n",
    "        continue\n"
   ]
  },
  {
   "cell_type": "markdown",
   "metadata": {},
   "source": [
    "## Popcorn Hack 2\n",
    "- Discussed in class that we cannot do this hack in vs code\n"
   ]
  },
  {
   "cell_type": "code",
   "execution_count": 9,
   "metadata": {},
   "outputs": [
    {
     "name": "stdout",
     "output_type": "stream",
     "text": [
      "work out for 1hr\n"
     ]
    }
   ],
   "source": [
    "## Popcorn Hack 3\n",
    "\n",
    "import random\n",
    "\n",
    "do = ['sleep', 'study', 'watch TV', 'work out']\n",
    "time = ['1hr', '2hr', '3hr', '4hr']\n",
    "\n",
    "do_combinations = [f\"{main} for {side}\" for main in do for side in time]\n",
    "\n",
    "print(random.choice(do_combinations))"
   ]
  },
  {
   "cell_type": "code",
   "execution_count": 10,
   "metadata": {},
   "outputs": [
    {
     "name": "stdout",
     "output_type": "stream",
     "text": [
      "Original list: [42, 'hello', 3.14, True, 'Python', [1, 2, 3], {'key': 'value'}]\n",
      "Removed item: Python\n",
      "Updated list: [42, 'hello', 3.14, True, [1, 2, 3], {'key': 'value'}]\n"
     ]
    }
   ],
   "source": [
    "## Homework for 3.10.1\n",
    "\n",
    "# Step 1: Create a list with various data types\n",
    "data_list = [42, \"hello\", 3.14, True, \"Python\", [1, 2, 3], {\"key\": \"value\"}]\n",
    "\n",
    "# Step 2: Display the original list\n",
    "print(\"Original list:\", data_list)\n",
    "\n",
    "# Step 3: Ask the user for input\n",
    "user_input = input(\"Enter an index to remove (0 to {}): \".format(len(data_list) - 1))\n",
    "\n",
    "# Step 4: Validate the input (check if it's a valid index)\n",
    "try:\n",
    "    index = int(user_input)\n",
    "    if 0 <= index < len(data_list):\n",
    "        # Step 5: Remove the item at the given index\n",
    "        removed_item = data_list.pop(index)\n",
    "        print(f\"Removed item: {removed_item}\")\n",
    "    else:\n",
    "        print(\"Error: Index out of range.\")\n",
    "except ValueError:\n",
    "    print(\"Error: Please enter a valid number.\")\n",
    "\n",
    "# Step 6: Display the updated list\n",
    "print(\"Updated list:\", data_list)\n"
   ]
  },
  {
   "cell_type": "code",
   "execution_count": 16,
   "metadata": {},
   "outputs": [
    {
     "name": "stdout",
     "output_type": "stream",
     "text": [
      "Sum of even numbers: 240\n",
      "Sum of odd numbers: 225\n"
     ]
    }
   ],
   "source": [
    "## Homework for 3.10.2\n",
    "numbers = [1, 2, 3, 4, 5, 6, 7, 8, 9, 10,\n",
    "           11, 12, 13, 14, 15, 16, 17, 18, 19, 20,\n",
    "           21, 22, 23, 24, 25, 26, 27, 28, 29, 30]\n",
    "\n",
    "even_sum = 0\n",
    "odd_sum = 0\n",
    "\n",
    "for number in numbers:\n",
    "    if number % 2 == 0:\n",
    "        even_sum += number  \n",
    "    else:\n",
    "        odd_sum += number  \n",
    "    \n",
    "\n",
    "print(\"Sum of even numbers:\", even_sum)\n",
    "print(\"Sum of odd numbers:\", odd_sum)"
   ]
  },
  {
   "cell_type": "code",
   "execution_count": 12,
   "metadata": {},
   "outputs": [
    {
     "name": "stdout",
     "output_type": "stream",
     "text": [
      "Using a for loop:\n",
      "Reading\n",
      "Biking\n",
      "Hiking\n",
      "Going to Beach\n",
      "Being with Friends\n",
      "\n",
      "Using a while loop:\n",
      "Reading\n",
      "Biking\n",
      "Hiking\n",
      "Going to Beach\n",
      "Being with Friends\n"
     ]
    }
   ],
   "source": [
    "hobbies = [\"Reading\", \"Biking\", \"Hiking\", \"Going to Beach\", \"Being with Friends\"]\n",
    "\n",
    "# Step 2: Use a for loop to run through each hobby in the list\n",
    "print(\"Using a for loop:\")\n",
    "for hobby in hobbies:\n",
    "    print(hobby)\n",
    "\n",
    "# Step 3: Use a while loop to run through each hobby in the list\n",
    "print(\"\\nUsing a while loop:\")\n",
    "i = 0\n",
    "while i < len(hobbies):\n",
    "    print(hobbies[i])\n",
    "    i += 1"
   ]
  },
  {
   "cell_type": "code",
   "execution_count": 13,
   "metadata": {},
   "outputs": [],
   "source": [
    "# Define a list to hold user information\n",
    "people = []\n",
    "\n",
    "# Function to collect user input and create a person object\n",
    "def add_person():\n",
    "    name = input(\"What is your name? \")\n",
    "    age = input(\"How old are you? \")\n",
    "    \n",
    "    # Simple Yes/No question for student status\n",
    "    while True:\n",
    "        is_student = input(\"Are you a student? (yes/no): \").lower()\n",
    "        if is_student in [\"yes\", \"no\"]:\n",
    "            is_student = (is_student == \"yes\")  # Converts to Boolean\n",
    "            break\n",
    "        else:\n",
    "            print(\"Please enter 'yes' or 'no'.\")\n",
    "\n",
    "    # Create the person object\n",
    "    person = {\n",
    "        'name': name,\n",
    "        'age': age,\n",
    "        'is_student': is_student\n",
    "    }\n",
    "    \n",
    "    # Add the person to the list\n",
    "    people.append(person)\n",
    "\n",
    "    # Display the added person\n",
    "    display_people()\n",
    "\n",
    "# Function to display the list of people\n",
    "def display_people():\n",
    "    print(\"\\nCurrent List of People:\")\n",
    "    for index, person in enumerate(people, 1):\n",
    "        student_status = \"a student\" if person['is_student'] else \"not a student\"\n",
    "        print(f\"Person {index}: {person['name']}, {person['age']} years old, {student_status}\")\n",
    "\n",
    "# Example Usage"
   ]
  }
 ],
 "metadata": {
  "kernelspec": {
   "display_name": "venv",
   "language": "python",
   "name": "python3"
  },
  "language_info": {
   "codemirror_mode": {
    "name": "ipython",
    "version": 3
   },
   "file_extension": ".py",
   "mimetype": "text/x-python",
   "name": "python",
   "nbconvert_exporter": "python",
   "pygments_lexer": "ipython3",
   "version": "3.11.7"
  }
 },
 "nbformat": 4,
 "nbformat_minor": 2
}
