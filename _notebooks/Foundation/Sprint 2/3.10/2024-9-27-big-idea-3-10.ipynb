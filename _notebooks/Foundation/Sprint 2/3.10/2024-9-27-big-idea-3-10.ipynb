{
 "cells": [
  {
   "cell_type": "raw",
   "metadata": {},
   "source": [
    "---\n",
    "toc: false\n",
    "comments: true\n",
    "layout: post\n",
    "title: 3.10 List Operations\n",
    "description: Student led teaching on Lists. Learn how storage and manipulation of multiple items using indexing to access individual elements.\n",
    "permalink: /csp/big-idea/p2/3-10\n",
    "categories: [CSP Big Ideas]\n",
    "author:  Alex, Daksha, Darsh, Zach\n",
    "menu: nav/csp_units/csp_unit3_p2_fundamentals.html\n",
    "---"
   ]
  },
  {
   "cell_type": "markdown",
   "metadata": {},
   "source": [
    "# Overview of our content"
   ]
  },
  {
   "cell_type": "markdown",
   "metadata": {},
   "source": [
    "\n",
    "_3.10.1_ List Operations\n",
    "- Assigning values\n",
    "- Inserting\n",
    "- Appending\n",
    "- Removing\n",
    "- Length\n",
    "\n",
    "_3.10.2_ Pseudocode (Sum of even numbers in list)\n",
    "- Variables\n",
    "- Create number list\n",
    "- Modulus operator\n",
    "- For loops, If statements\n",
    "\n",
    "_3.10.3_ Hacks (Functions)\n",
    "- Find Max and Min num in list\n",
    "- Iterating through list using loop\n",
    "\n",
    "_3.10.4_ Hacks (Lists)\n",
    "- Take user input\n",
    "- List elements have attributes/values"
   ]
  },
  {
   "cell_type": "code",
   "execution_count": 1,
   "metadata": {
    "vscode": {
     "languageId": "javascript"
    }
   },
   "outputs": [
    {
     "name": "stdout",
     "output_type": "stream",
     "text": [
      "Adding Numbers In List Script\n",
      "-------------------------\n",
      "Please enter a valid number\n"
     ]
    }
   ],
   "source": [
    "print(\"Adding Numbers In List Script\")\n",
    "print(\"-\"*25)\n",
    "numlist = [50]\n",
    "while True:\n",
    "    start = input(\"Would you like to (1) enter numbers (2) add numbers (3) remove last value added or (4) exit: \")\n",
    "    if start == \"1\":\n",
    "        val = input(\"Enter a numeric value: \") # take input while storing it in a variable\n",
    "        try: \n",
    "            test = int(val) # testing to see if input is an integer (numeric)\n",
    "        except:\n",
    "            print(\"Please enter a valid number\")\n",
    "            continue # 'continue' keyword skips to next step of while loop (basically restarting the loop)\n",
    "        numlist.append(int(val)) # append method to add values\n",
    "        print(\"Added \"+val+\" to list.\")\n",
    "    elif start == \"2\":\n",
    "        sum = 0\n",
    "        for num in numlist: # loop through list and add all values to sum variable\n",
    "            sum += num\n",
    "        print(\"Sum of numbers in list is \"+str(sum))\n",
    "    elif start == \"3\":\n",
    "        if len(numlist) > 0: # Make sure there are values in list to remove\n",
    "            print(\"Removed \"+str(numlist[len(numlist)-1])+\" from list.\")\n",
    "            numlist.pop()\n",
    "        else:\n",
    "            print(\"No values to delete\")\n",
    "    elif start == \"4\":\n",
    "        break # Break out of the while loop, or it will continue running forever\n",
    "    else:\n",
    "        continue"
   ]
  }
 ],
 "metadata": {
  "kernelspec": {
   "display_name": "venv",
   "language": "python",
   "name": "python3"
  },
  "language_info": {
   "codemirror_mode": {
    "name": "ipython",
    "version": 3
   },
   "file_extension": ".py",
   "mimetype": "text/x-python",
   "name": "python",
   "nbconvert_exporter": "python",
   "pygments_lexer": "ipython3",
   "version": "3.11.7"
  }
 },
 "nbformat": 4,
 "nbformat_minor": 2
}
