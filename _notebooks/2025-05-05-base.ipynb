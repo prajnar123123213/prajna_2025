{
 "cells": [
  {
   "cell_type": "raw",
   "metadata": {},
   "source": [
    "---\n",
    "layout: post\n",
    "categories: [AP Exam Prep]\n",
    "title: Base HW\n",
    "description: HW Hacks\n",
    "permalink: /base/\n",
    "courses: { csp: {week: 1} }\n",
    "comments: true\n",
    "sticky_rank: 1\n",
    "---"
   ]
  },
  {
   "cell_type": "markdown",
   "metadata": {},
   "source": [
    "<h1> Popcorn Hack </h1>\n",
    "\n",
    "Popcorn Hacks 1: \n",
    "\n",
    "- 101010\n",
    "       - 42\n",
    "- 12301 (this is not a binary numbers, so we cannot convert it). \n",
    "- 11001\n",
    "       - 25, and it is binary. \n",
    "\n",
    "<br>\n",
    "\n",
    "Popcorn Hack 2: \n",
    "\n",
    "- The result would be false. You have to do the \"and\" operation first, so it ends up coming out as false. \n",
    "\n",
    "\n",
    "<br>\n",
    "\n",
    "Popcorn Hack 3:\n",
    "\n",
    "- The result would be true. You do the \"not\" operation first, and the \"and\" finally, \"or\" which gives us true. \n",
    "\n",
    "<br>\n",
    "\n",
    "\n"
   ]
  },
  {
   "cell_type": "code",
   "execution_count": 1,
   "metadata": {},
   "outputs": [
    {
     "name": "stdout",
     "output_type": "stream",
     "text": [
      "Decimal to Binary:\n",
      "10 → 1010\n",
      "-10 → -1010\n",
      "0 → 0\n",
      "255 → 11111111\n",
      "-255 → -11111111\n",
      "\n",
      "Binary to Decimal:\n",
      "1010 → 10\n",
      "-1010 → -10\n",
      "0 → 0\n",
      "11111111 → 255\n",
      "-11111111 → -255\n"
     ]
    }
   ],
   "source": [
    "def decimal_to_binary(n):\n",
    "    if n >= 0:\n",
    "        return bin(n)[2:]  # Remove the '0b' prefix\n",
    "    else:\n",
    "        return '-' + bin(abs(n))[2:]\n",
    "\n",
    "def binary_to_decimal(b):\n",
    "    if b.startswith('-'):\n",
    "        return -int(b[1:], 2)\n",
    "    else:\n",
    "        return int(b, 2)\n",
    "\n",
    "# Test Cases\n",
    "test_decimals = [10, -10, 0, 255, -255]\n",
    "test_binaries = [\"1010\", \"-1010\", \"0\", \"11111111\", \"-11111111\"]\n",
    "\n",
    "print(\"Decimal to Binary:\")\n",
    "for number in test_decimals:\n",
    "    print(f\"{number} → {decimal_to_binary(number)}\")\n",
    "\n",
    "print(\"\\nBinary to Decimal:\")\n",
    "for binary_str in test_binaries:\n",
    "    print(f\"{binary_str} → {binary_to_decimal(binary_str)}\")"
   ]
  },
  {
   "cell_type": "code",
   "execution_count": 2,
   "metadata": {},
   "outputs": [
    {
     "name": "stdout",
     "output_type": "stream",
     "text": [
      "Difficulty set to: easy\n"
     ]
    }
   ],
   "source": [
    "import time\n",
    "\n",
    "difficulty = input(\"Enter difficulty (easy, medium, hard): \").lower().strip()\n",
    "\n",
    "while difficulty not in [\"easy\", \"medium\", \"hard\"]:\n",
    "    print(\"Please enter a valid difficulty level.\")\n",
    "    time.sleep(0.5)\n",
    "    difficulty = input(\"Enter difficulty (easy, medium, hard): \").lower().strip()\n",
    "\n",
    "print(\"Difficulty set to:\", difficulty)\n"
   ]
  }
 ],
 "metadata": {
  "kernelspec": {
   "display_name": "venv",
   "language": "python",
   "name": "python3"
  },
  "language_info": {
   "codemirror_mode": {
    "name": "ipython",
    "version": 3
   },
   "file_extension": ".py",
   "mimetype": "text/x-python",
   "name": "python",
   "nbconvert_exporter": "python",
   "pygments_lexer": "ipython3",
   "version": "3.12.5"
  }
 },
 "nbformat": 4,
 "nbformat_minor": 2
}
