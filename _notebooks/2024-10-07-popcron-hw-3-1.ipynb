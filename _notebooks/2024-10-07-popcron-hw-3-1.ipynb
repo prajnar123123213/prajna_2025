{
 "cells": [
  {
   "cell_type": "raw",
   "metadata": {},
   "source": [
    "---\n",
    "layout: post\n",
    "title: Homeworks and Popcorn Hacks for Lessons\n",
    "description: All homeworks for Lessons\n",
    "courses: { csp: {week: 1} }\n",
    "comments: true\n",
    "sticky_rank: 1\n",
    "---"
   ]
  },
  {
   "cell_type": "code",
   "execution_count": 1,
   "metadata": {},
   "outputs": [
    {
     "name": "stdout",
     "output_type": "stream",
     "text": [
      "Welcome to the Math Quiz Game!\n",
      "Answer as many questions as you can. Type 'q' to quit anytime.\n",
      "\n",
      "What is 3 + 11?\n",
      "Correct!\n",
      "What is 16 / 7?\n",
      "Invalid input, please enter a number or 'q' to quit.\n",
      "What is 15 - 16?\n",
      "Thanks for playing! Your final score is 1.\n"
     ]
    }
   ],
   "source": [
    "import random\n",
    "\n",
    "def play_game():\n",
    "    score = 0\n",
    "    operators = ['+', '-', '*', '/']\n",
    "\n",
    "    print(\"Welcome to the Math Quiz Game!\")\n",
    "    print(\"Answer as many questions as you can. Type 'q' to quit anytime.\\n\")\n",
    "\n",
    "    while True:\n",
    "        # Generate two random numbers and choose a random operator\n",
    "        num1 = random.randint(1, 20)\n",
    "        num2 = random.randint(1, 20)\n",
    "        op = random.choice(operators)\n",
    "\n",
    "        # Calculate the correct answer based on the operator\n",
    "        if op == '+':\n",
    "            answer = num1 + num2\n",
    "        elif op == '-':\n",
    "            answer = num1 - num2\n",
    "        elif op== '*':\n",
    "            answer = num1 * num2\n",
    "        else:\n",
    "            answer = num1 / num2\n",
    "\n",
    "        # Ask the player the question\n",
    "        print(f\"What is {num1} {op} {num2}?\")\n",
    "        player_input = input(\"Your answer (or type 'q' to quit): \")\n",
    "\n",
    "        # Check if the player wants to quit\n",
    "        if player_input.lower() == 'q':\n",
    "            break\n",
    "\n",
    "        # Check if the answer is correct\n",
    "        try:\n",
    "            player_answer = int(player_input)\n",
    "            if player_answer == answer:\n",
    "                print(\"Correct!\")\n",
    "                score += 1\n",
    "            else:\n",
    "                print(f\"Oops! The correct answer was {answer}.\")\n",
    "        except ValueError:\n",
    "            print(\"Wrong! Please enter a number or 'q' to quit.\")\n",
    "\n",
    "    print(f\"Goodbye! Your final score is {score}.\")\n",
    "\n",
    "# Start the game\n",
    "play_game()"
   ]
  },
  {
   "cell_type": "code",
   "execution_count": 3,
   "metadata": {
    "vscode": {
     "languageId": "javascript"
    }
   },
   "outputs": [
    {
     "data": {
      "application/javascript": "\nvar myDictionary = {\n    1: \"cherry\",\n    2: \"grapes\",\n    3: \"blueberry\"\n};\n\n// Accessing a value\nconsole.log(\"Fruit with key 2:\", myDictionary[2]); // Output: fruit\n",
      "text/plain": [
       "<IPython.core.display.Javascript object>"
      ]
     },
     "metadata": {},
     "output_type": "display_data"
    }
   ],
   "source": [
    "%%javascript\n",
    "\n",
    "var myDictionary = {\n",
    "    1: \"cherry\",\n",
    "    2: \"grapes\",\n",
    "    3: \"blueberry\"\n",
    "};\n",
    "\n",
    "// Accessing a value\n",
    "console.log(\"Fruit with key 2:\", myDictionary[2]); // Output: fruit\n"
   ]
  },
  {
   "cell_type": "code",
   "execution_count": 8,
   "metadata": {
    "vscode": {
     "languageId": "javascript"
    }
   },
   "outputs": [
    {
     "ename": "SyntaxError",
     "evalue": "invalid syntax (4050493327.py, line 3)",
     "output_type": "error",
     "traceback": [
      "\u001b[0;36m  Cell \u001b[0;32mIn[8], line 3\u001b[0;36m\u001b[0m\n\u001b[0;31m    let favoriteMovie = \"The Grinch\";\u001b[0m\n\u001b[0m        ^\u001b[0m\n\u001b[0;31mSyntaxError\u001b[0m\u001b[0;31m:\u001b[0m invalid syntax\n"
     ]
    }
   ],
   "source": [
    "%javascript\n",
    "\n",
    "let favoriteMovie = \"The Grinch\";\n",
    "let favoriteSport = \"basketball\";\n",
    "let petName= \"Coco\";\n",
    "\n",
    "let concactedMessage = \"My favorite sport is\" + favoriteSport + \". I love my dog\" + petName + \".\";\n",
    "\n",
    "let interpolatedMessage = \"My favorite sport is ${favoriteSport} and my pet's name is ${petName}.\";"
   ]
  },
  {
   "cell_type": "code",
   "execution_count": 12,
   "metadata": {
    "vscode": {
     "languageId": "javascript"
    }
   },
   "outputs": [
    {
     "data": {
      "application/javascript": "\n\n// Define string\nlet phrase = \"A journey of a thousand miles begins with a single step\";\n\n// Extraction\nlet partOne = phrase.slice(2, 9);       // Extracts \"journey\"\nlet partTwo = phrase.slice(-26, -20);   // Extracts \"miles\" using negative index\nlet remainder = phrase.slice(31);       // Extracts from \"begins\" to the end\n\n// Output\nconsole.log(partOne);    // Output: journey\nconsole.log(partTwo);    // Output: miles\nconsole.log(remainder);  // Output: begins with a single step\n\n",
      "text/plain": [
       "<IPython.core.display.Javascript object>"
      ]
     },
     "metadata": {},
     "output_type": "display_data"
    }
   ],
   "source": [
    "%%js\n",
    "\n",
    "\n",
    "// Define string\n",
    "let phrase = \"A journey of a thousand miles begins with a single step\";\n",
    "\n",
    "// Extraction\n",
    "let partOne = phrase.slice(2, 9);       // Extracts \"journey\"\n",
    "let partTwo = phrase.slice(-26, -20);   // Extracts \"miles\" using negative index\n",
    "let remainder = phrase.slice(31);       // Extracts from \"begins\" to the end\n",
    "\n",
    "// Output\n",
    "console.log(partOne);    // Output: journey\n",
    "console.log(partTwo);    // Output: miles\n",
    "console.log(remainder);  // Output: begins with a single step\n",
    "\n"
   ]
  }
 ],
 "metadata": {
  "kernelspec": {
   "display_name": "venv",
   "language": "python",
   "name": "python3"
  },
  "language_info": {
   "codemirror_mode": {
    "name": "ipython",
    "version": 3
   },
   "file_extension": ".py",
   "mimetype": "text/x-python",
   "name": "python",
   "nbconvert_exporter": "python",
   "pygments_lexer": "ipython3",
   "version": "3.12.5"
  }
 },
 "nbformat": 4,
 "nbformat_minor": 2
}
