{
 "cells": [
  {
   "cell_type": "raw",
   "metadata": {},
   "source": [
    "---\n",
    "layout: post\n",
    "categories: [CSP Big Idea 2]\n",
    "title: Safe Computing HW\n",
    "description: HW hack\n",
    "permalink: /computing/\n",
    "courses: { csp: {week: 1} }\n",
    "comments: true\n",
    "sticky_rank: 1\n",
    "---"
   ]
  },
  {
   "cell_type": "code",
   "execution_count": 6,
   "metadata": {},
   "outputs": [
    {
     "name": "stdout",
     "output_type": "stream",
     "text": [
      "Result: ifmmp\n"
     ]
    }
   ],
   "source": [
    "import random\n",
    "\n",
    "def caesar_cipher(text, shift, mode):\n",
    "    result = \"\"\n",
    "    for char in text:\n",
    "        if char.isalpha():  # Only encrypt/decrypt letters\n",
    "            shift_amount = shift if mode == \"encrypt\" else -shift\n",
    "            new_char = chr(((ord(char.lower()) - 97 + shift_amount) % 26) + 97)\n",
    "            result += new_char.upper() if char.isupper() else new_char\n",
    "        else:\n",
    "            result += char  # Keep non-letter characters unchanged\n",
    "    return result\n",
    "\n",
    "# User input\n",
    "mode = input(\"Do you want to encrypt or decrypt? \").strip().lower()\n",
    "message = input(\"Enter your message: \")\n",
    "\n",
    "# Accept \"random\" for shift\n",
    "shift_input = input(\"Enter shift value (number of places to shift or type 'random'): \").strip().lower()\n",
    "if shift_input == \"random\":\n",
    "    shift = random.randint(1, 25)\n",
    "    print(f\"Random shift chosen: {shift}\")\n",
    "else:\n",
    "    shift = int(shift_input)\n",
    "\n",
    "# Perform encryption/decryption\n",
    "output = caesar_cipher(message, shift, mode)\n",
    "print(f\"Result: {output}\")\n"
   ]
  }
 ],
 "metadata": {
  "kernelspec": {
   "display_name": "venv",
   "language": "python",
   "name": "python3"
  },
  "language_info": {
   "codemirror_mode": {
    "name": "ipython",
    "version": 3
   },
   "file_extension": ".py",
   "mimetype": "text/x-python",
   "name": "python",
   "nbconvert_exporter": "python",
   "pygments_lexer": "ipython3",
   "version": "3.12.5"
  }
 },
 "nbformat": 4,
 "nbformat_minor": 2
}
