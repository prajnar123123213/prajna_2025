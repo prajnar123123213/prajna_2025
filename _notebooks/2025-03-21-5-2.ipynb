{
 "cells": [
  {
   "cell_type": "raw",
   "metadata": {},
   "source": [
    "---\n",
    "layout: post\n",
    "categories: [CSP Big Idea 2]\n",
    "title: 5.2 Digital Divide \n",
    "description: Popcorn Hack, HW\n",
    "permalink: /digitaldivide/\n",
    "courses: { csp: {week: 1} }\n",
    "comments: true\n",
    "sticky_rank: 1\n",
    "---"
   ]
  },
  {
   "cell_type": "markdown",
   "metadata": {},
   "source": [
    "<h1>Digital Divide Notes</h1>\n",
    "\n",
    "- Gap between people that have a reliable technology access to the people that are not as privilaged. \n",
    "    - Inequality can come from language barriers, physical borders, and economic and immigration status. \n",
    "- There are Ethical concerns, as some people do not get the same oppurtunites because of their lack of access\n",
    "    - We should take responsibility to make sure that people with less access than us gets the education and help they deserve\n",
    "- To improve the digital divide, we should improve the infrastructure and create inclusive technologies that meet the needs of people with disabilities. \n",
    "    - Divide isn't always about money. "
   ]
  },
  {
   "cell_type": "markdown",
   "metadata": {},
   "source": [
    "<h1> Popcorn Hack 1 </h1>\n",
    "\n",
    "- Education: Especially after COVID, a lot of schools have taken a more digital approach to learning. This affects people of lower socio-economic since they are unable to atend online schooling or get computers to do their assignments one. This widens the Digital Divide. \n",
    "\n",
    "<H1> Popcorn Hack 2 <h2>\n",
    "\n",
    "- The iPhone might unintentionally exclude certain groups since it is not easy usable for people with disablities. This might happen because the majority of people do not have disablities, and the target audience is people that can easily use the iPhone. "
   ]
  },
  {
   "cell_type": "markdown",
   "metadata": {},
   "source": [
    "<h6> Homework Hack </h6>\n",
    "\n",
    "In my own community, I've seen how online schooling back in 2020 negatively affected my family back in India. They come from a lower socio-economic class and technology isn't readily availabe for them. Being blocked and kept from going to school in-person affected the education that many of my cousins got. This was extremley different from my own online schooling experience, since I'm more privilaged in the sense that I have access to technology, which is an example of the Digital Divide. To solve this issue, I think they can do something similar to PUSD, when they lended school chrombeooks to all students, so they all have equal opportunity to learn. "
   ]
  }
 ],
 "metadata": {
  "language_info": {
   "name": "python"
  }
 },
 "nbformat": 4,
 "nbformat_minor": 2
}
