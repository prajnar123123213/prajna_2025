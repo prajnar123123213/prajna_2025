{
 "cells": [
  {
   "cell_type": "raw",
   "metadata": {},
   "source": [
    "---\n",
    "layout: post\n",
    "categories: [CSP Big Idea 2]\n",
    "title: 5.2 Digital Divide \n",
    "description: Popcorn Hack, HW\n",
    "permalink: /digitaldivide/\n",
    "courses: { csp: {week: 1} }\n",
    "comments: true\n",
    "sticky_rank: 1\n",
    "---"
   ]
  },
  {
   "cell_type": "markdown",
   "metadata": {},
   "source": [
    "<h1>Digital Divide Notes</h1>\n",
    "\n",
    "- Gap between people that have a reliable technology access to the people that are not as privilaged. \n",
    "    - Inequality can come from language barriers, physical borders, and economic and immigration status. \n",
    "- There are Ethical concerns, as some people do not get the same oppurtunites because of their lack of access\n",
    "    - We should take responsibility to make sure that people with less access than us gets the education and help they deserve\n",
    "- To improve the digital divide, we should improve the infrastructure and create inclusive technologies that meet the needs of people with disabilities. \n",
    "    - Divide isn't always about money. "
   ]
  },
  {
   "cell_type": "markdown",
   "metadata": {},
   "source": [
    "<h1> Popcorn Hack 1 </h1>\n",
    "\n",
    "- Education: Especially after COVID, a lot of schools have taken a more digital approach to learning. This affects people of lower socio-economic since they are unable to atend online schooling or get computers to do their assignments one. This widens the Digital Divide. \n",
    "\n",
    "<H1> Popcorn Hack 2 <h2>\n",
    "\n",
    "- The iPhone might unintentionally exclude certain groups since it is not easy usable for people with disablities. This might happen because the majority of people do not have disablities, and the target audience is people that can easily use the iPhone. "
   ]
  },
  {
   "cell_type": "markdown",
   "metadata": {},
   "source": [
    "<h6> Homework Hack </h6>\n",
    "\n",
    "In my own community, I've seen how online schooling back in 2020 negatively affected my family back in India. They come from a lower socio-economic class and technology isn't readily availabe for them. Being blocked and kept from going to school in-person affected the education that many of my cousins got. This was extremley different from my own online schooling experience, since I'm more privilaged in the sense that I have access to technology, which is an example of the Digital Divide. To solve this issue, I think they can do something similar to PUSD, when they lended school chrombeooks to all students, so they all have equal opportunity to learn. "
   ]
  },
  {
   "cell_type": "markdown",
   "metadata": {},
   "source": [
    "## Computing Bias\n",
    "\n",
    "Bias: Prejudice in favor or against a person. Computing bias can happen when a programmer or algorithm is flawed with some sort of bias.  \n",
    "\n",
    "- Algorithm bias is from faulty computer system that produces inaccurate results. \n",
    "- Cognitive Bias: a programmer introduces their own beliefs. (confirmation bias). \n",
    "- Data Bias: The physical data used is incomplete and erroneous. \n",
    "- Intentional Bias: Deliberate introduction of unfairness into algorithms by induviduals. It doesn't always have to be unfair. \n",
    "    - Ex: Hiring algorithm that filters out certain words that may favor white males over other people. \n",
    "- Unintentional Bias: People trains a flawed or incomplete data.\n",
    "    - Ex: Facial recognition/ tracking technology. \n",
    "- Mitigating: Identifies and fixes flawed data and promotes equal representation across demographics. "
   ]
  },
  {
   "cell_type": "markdown",
   "metadata": {},
   "source": [
    "## Popcorn Hack 1\n",
    "\n",
    "- Answer choice B\n",
    "\n",
    "## Popcorn Hack 2\n",
    "\n",
    "- Answer B\n",
    "\n",
    "## Popcorn Hack 3\n",
    "\n",
    "- Voice softwares not recognizing accents is unintentional. \n"
   ]
  },
  {
   "cell_type": "markdown",
   "metadata": {},
   "source": [
    "## Hw Hack for Computing Bias\n",
    "\n",
    "Implicit data is when a service infers the contenc that you might like, similar to Netflix recommondations. A streaming service can monitor the things you watch and then filter out movies/ tv shows that you would not like. Explicit is when you fill out account information on a website like Amazon and give them things like your name, address, age, etc. So, overall, implicit data is indirectly taken from you, and explicit is information that you voluntarily give up. "
   ]
  },
  {
   "cell_type": "markdown",
   "metadata": {},
   "source": [
    "<h1> Crowd Sourcing </h1>\n",
    "\n",
    "- Method of data collections, using the help of people from shared communities. Thousands of people work together or compete to make a company better. \n",
    "- Open Source Development: Software is left to the public and allows for people to change the shared code. It encourage teamwork, but it's important that people follow the rules for proper use of shared code. "
   ]
  },
  {
   "cell_type": "markdown",
   "metadata": {},
   "source": [
    "<h1> Popcorn and HW hacks </h1>\n",
    "\n",
    "<br>\n",
    "\n",
    "#1: \n",
    " - Crowd funding: Raise money by collecting small contributitions. Leads to innovation by allowing small companies to launch. \n",
    " - Crowd Creation: design competitions, wikipedia. Leads to innovation by allowing multiple people to be creative and work together. \n",
    " - Crowd Voting: Collect public opinion through surveys. By taking public opinion into account, society can innovate better. \n",
    " - Crowd Wisdom: Using collective intelligence for prooblem sovling. (Reddit, Quora, etc). Leads to innovation by allowing people to get their questions answered. \n",
    "\n",
    "<br>\n",
    "\n",
    "#2: \n",
    "Data crowdsourcing is the process of collecting data from a large group of people, typically through voluntary participation, to generate large-scale datasets. This collaborative approach leverages the power of the public to gather, validate, and refine data. This leads to open source development because it allows for collabortation. Some datasets are from NASA, Google Maps, and Wikipedia. All of these sites have been made using team and volunteer efforts. \n",
    "\n",
    "<br>\n",
    "\n",
    "#3:\n",
    "Distributed computing involves using a network of interconnected computers to collaboratively process large datasets or solve complex problems. In a distributed system, tasks are divided into smaller units and processed simultaneously across multiple machines. When applied to crowdsourcing, distributed computing allows vast computational tasks to be tackled efficiently by harnessing the power of volunteers’ devices or cloud-based resources.\n",
    "\n",
    "<br>\n",
    "\n",
    "## HW Hack: \n",
    "Crowdsourcing has led to many developments in moden society, as it allows for collaboration and community engagment. Through Crowd Creation and Crowd Wisdom, members of diverse communities and societs are able to come together with their different persepctive and create one project. Things like Wikipedia depend on public effort, and other sites like Reddit, Instagram, or TikTok would be useless without crowdsourcing. This also related to distrubted computing, as editing in Wikipedia and posting on social media usually happend induvidually in diffeerent locations. Furthermore, Crowd Voting and Crowd Funding allows room for public opinion and input. This relates to open source development because software that is open to the public is done properly because of public input. \n"
   ]
  }
 ],
 "metadata": {
  "language_info": {
   "name": "python"
  }
 },
 "nbformat": 4,
 "nbformat_minor": 2
}
