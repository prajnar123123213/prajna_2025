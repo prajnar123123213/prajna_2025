{
 "cells": [
  {
   "cell_type": "raw",
   "metadata": {},
   "source": [
    "---\n",
    "layout: post\n",
    "categories: [CSP Big Idea 2]\n",
    "title: Lists HW Hacks\n",
    "description: HW hack\n",
    "permalink: /lists/\n",
    "courses: { csp: {week: 1} }\n",
    "comments: true\n",
    "sticky_rank: 1\n",
    "---"
   ]
  },
  {
   "cell_type": "markdown",
   "metadata": {},
   "source": [
    "\n",
    "<h1> Popcorn hacks </h1>\n",
    "\n",
    "**Popcorn Hacks 1**\n",
    "- A list allows for a lot of data to be stored in one place and allows for proper organization.\n",
    "Some examples of lists are music playlists, shopping lists, or online catalogs.\n",
    "\n",
    "<br>\n",
    "\n",
    "**Popcorn Hack 2**\n",
    "- The list would output \"eraser,\" since it's the second one in the index and third one in the overall list after deleting and adding a sharpener.\n",
    "\n",
    "<br>\n",
    "\n",
    "**Popcorn Hack 3**\n",
    "- A real world example of a filtering algorithm is online shopping when you apply filters to the website to only get items that are within your budget."
   ]
  },
  {
   "cell_type": "markdown",
   "metadata": {},
   "source": [
    "<h1> Homwork Hacks </h1>\n",
    "\n",
    "<br>\n",
    "\n",
    "1. **Python List and Procedures.**"
   ]
  },
  {
   "cell_type": "code",
   "execution_count": 1,
   "metadata": {},
   "outputs": [
    {
     "name": "stdout",
     "output_type": "stream",
     "text": [
      "Final List: ['football', 'cricket', 'badminton', 'ballet', 'softball', 'basketball']\n"
     ]
    }
   ],
   "source": [
    "items = [\"soccer\", \"football\", \"cricket\", \"badminton\", \"softball\"]\n",
    "\n",
    "# List Procedure 1: Append - Adds a new item to the end of the list\n",
    "items.append(\"basketball\")  # Now items = [\"soccer\", \"football\", \"cricket\", \"badminton\", \"softball\", \"basketball\"]\n",
    "\n",
    "# List Procedure 2: Remove - Removes a specific item from the list\n",
    "items.remove(\"soccer\")  # Now items = [\"football\", \"cricket\", \"badminton\", \"softball\", \"basketball\"]\n",
    "\n",
    "# List Procedure 3: Insert - Inserts an item at a specific index\n",
    "items.insert(3, \"ballet\")  # Now items = [\"football\", \"cricket\", \"badminton\", \"ballet\", \"softball\", \"basketball\"]\n",
    "# Print final list to show result\n",
    "print(\"Final List:\", items)"
   ]
  },
  {
   "cell_type": "markdown",
   "metadata": {},
   "source": [
    "2. **Traversal Instructions**\n",
    "    - Use a for loop to navigate through items. \n",
    "    - Traversal always starts from index 0 and moves to the end of the list. \n",
    "    - Finally, print the results. Below is an example. "
   ]
  },
  {
   "cell_type": "code",
   "execution_count": 3,
   "metadata": {},
   "outputs": [
    {
     "name": "stdout",
     "output_type": "stream",
     "text": [
      "Current item: football\n",
      "Current item: cricket\n",
      "Current item: badminton\n",
      "Current item: ballet\n",
      "Current item: softball\n",
      "Current item: basketball\n"
     ]
    }
   ],
   "source": [
    "for item in items:\n",
    "    print(\"Current item:\", item)"
   ]
  },
  {
   "cell_type": "markdown",
   "metadata": {},
   "source": [
    "3. **Filtering** "
   ]
  },
  {
   "cell_type": "code",
   "execution_count": 2,
   "metadata": {},
   "outputs": [
    {
     "name": "stdout",
     "output_type": "stream",
     "text": [
      "Filtered Items (contain 'e'):\n",
      "         Item\n",
      "1     cricket\n",
      "3      ballet\n",
      "5  basketball\n"
     ]
    }
   ],
   "source": [
    "import pandas as pd\n",
    "\n",
    "# Convert list to DataFrame\n",
    "df = pd.DataFrame(items, columns=[\"Item\"])\n",
    "\n",
    "# Filter items containing the letter 'e'\n",
    "filtered_df = df[df[\"Item\"].str.contains(\"e\")]\n",
    "\n",
    "# Print the filtered list\n",
    "print(\"Filtered Items (contain 'e'):\")\n",
    "print(filtered_df)\n"
   ]
  },
  {
   "cell_type": "code",
   "execution_count": 4,
   "metadata": {},
   "outputs": [],
   "source": [
    "##New list with items that passed the test\n",
    "new_items = [\"cricket\", \"ballet\", \"basketball\"]"
   ]
  },
  {
   "cell_type": "markdown",
   "metadata": {},
   "source": [
    "<h1> Final Reflection </h1>\n",
    "\n",
    "Filtering algorithms and lists are used in real life for organizing and analyzing large amounts of data, such as sorting emails by unread status or recommending movies based on preferences. They help systems quickly search and process information which increases customer satisfaction and effectivness of alogorithms and code. "
   ]
  }
 ],
 "metadata": {
  "kernelspec": {
   "display_name": "venv",
   "language": "python",
   "name": "python3"
  },
  "language_info": {
   "codemirror_mode": {
    "name": "ipython",
    "version": 3
   },
   "file_extension": ".py",
   "mimetype": "text/x-python",
   "name": "python",
   "nbconvert_exporter": "python",
   "pygments_lexer": "ipython3",
   "version": "3.12.5"
  }
 },
 "nbformat": 4,
 "nbformat_minor": 2
}
